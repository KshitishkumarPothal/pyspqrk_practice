{
 "cells": [
  {
   "cell_type": "code",
   "execution_count": 1,
   "id": "f7966f1a",
   "metadata": {},
   "outputs": [
    {
     "name": "stderr",
     "output_type": "stream",
     "text": [
      "WARNING: Using incubator modules: jdk.incubator.vector\n",
      "Using Spark's default log4j profile: org/apache/spark/log4j2-defaults.properties\n",
      "25/08/11 08:48:20 WARN Utils: Your hostname, KSHITISH, resolves to a loopback address: 127.0.1.1; using 10.255.255.254 instead (on interface lo)\n",
      "25/08/11 08:48:20 WARN Utils: Set SPARK_LOCAL_IP if you need to bind to another address\n",
      "Using Spark's default log4j profile: org/apache/spark/log4j2-defaults.properties\n",
      "Setting default log level to \"WARN\".\n",
      "To adjust logging level use sc.setLogLevel(newLevel). For SparkR, use setLogLevel(newLevel).\n",
      "25/08/11 08:48:21 WARN NativeCodeLoader: Unable to load native-hadoop library for your platform... using builtin-java classes where applicable\n",
      "25/08/11 08:48:23 WARN Utils: Service 'SparkUI' could not bind on port 4040. Attempting port 4041.\n",
      "25/08/11 08:48:23 WARN Utils: Service 'SparkUI' could not bind on port 4041. Attempting port 4042.\n"
     ]
    }
   ],
   "source": [
    "from pyspark.sql import SparkSession\n",
    "\n",
    "spark = SparkSession.builder.appName(\"HogwartsAnalysis\").getOrCreate()\n"
   ]
  },
  {
   "cell_type": "code",
   "execution_count": 25,
   "id": "b53954d4",
   "metadata": {},
   "outputs": [
    {
     "name": "stdout",
     "output_type": "stream",
     "text": [
      "+----------+----+------+----------------+\n",
      "|     house|year|points|         student|\n",
      "+----------+----+------+----------------+\n",
      "|Gryffindor|   1|    80|    Harry Potter|\n",
      "| Slytherin|   1|    60|    Draco Malfoy|\n",
      "| Ravenclaw|   1|    45|   Luna Lovegood|\n",
      "|Hufflepuff|   1|    30|  Cedric Diggory|\n",
      "|Gryffindor|   2|    90|Hermione Granger|\n",
      "| Slytherin|   2|    70| Pansy Parkinson|\n",
      "| Ravenclaw|   2|    55|       Cho Chang|\n",
      "|Hufflepuff|   2|    65|   Hannah Abbott|\n",
      "|Gryffindor|   3|    20|     Ron Weasley|\n",
      "| Slytherin|   3|    85|   Blaise Zabini|\n",
      "+----------+----+------+----------------+\n",
      "\n"
     ]
    }
   ],
   "source": [
    "data = [\n",
    "    (\"Gryffindor\", 1, 80, \"Harry Potter\"),\n",
    "    (\"Slytherin\", 1, 60, \"Draco Malfoy\"),\n",
    "    (\"Ravenclaw\", 1, 45, \"Luna Lovegood\"),\n",
    "    (\"Hufflepuff\", 1, 30, \"Cedric Diggory\"),\n",
    "    (\"Gryffindor\", 2, 90, \"Hermione Granger\"),\n",
    "    (\"Slytherin\", 2, 70, \"Pansy Parkinson\"),\n",
    "    (\"Ravenclaw\", 2, 55, \"Cho Chang\"),\n",
    "    (\"Hufflepuff\", 2, 65, \"Hannah Abbott\"),\n",
    "    (\"Gryffindor\", 3, 20, \"Ron Weasley\"),\n",
    "    (\"Slytherin\", 3, 85, \"Blaise Zabini\")\n",
    "]\n",
    "\n",
    "columns = [\"house\", \"year\", \"points\", \"student\"]\n",
    "df = spark.createDataFrame(data, columns)\n",
    "df.show()"
   ]
  },
  {
   "cell_type": "code",
   "execution_count": 26,
   "id": "620b7150",
   "metadata": {},
   "outputs": [
    {
     "name": "stdout",
     "output_type": "stream",
     "text": [
      "+----------+----+------+----------------+\n",
      "|     house|year|points|         student|\n",
      "+----------+----+------+----------------+\n",
      "|Gryffindor|   1|    80|    Harry Potter|\n",
      "| Slytherin|   1|    60|    Draco Malfoy|\n",
      "|Gryffindor|   2|    90|Hermione Granger|\n",
      "| Slytherin|   2|    70| Pansy Parkinson|\n",
      "| Ravenclaw|   2|    55|       Cho Chang|\n",
      "|Hufflepuff|   2|    65|   Hannah Abbott|\n",
      "| Slytherin|   3|    85|   Blaise Zabini|\n",
      "+----------+----+------+----------------+\n",
      "\n"
     ]
    }
   ],
   "source": [
    "from pyspark.sql.functions import col,sum,avg\n",
    "df_filter = df.filter(col(\"points\") > 50)\n",
    "df_filter.show()\n",
    "# df_filter.printSchema()"
   ]
  },
  {
   "cell_type": "code",
   "execution_count": 27,
   "id": "00ca3a38",
   "metadata": {},
   "outputs": [
    {
     "name": "stdout",
     "output_type": "stream",
     "text": [
      "+----------+----+---------+\n",
      "|     house|year|total_sum|\n",
      "+----------+----+---------+\n",
      "|Gryffindor|   1|       80|\n",
      "| Slytherin|   1|       60|\n",
      "|Gryffindor|   2|       90|\n",
      "| Slytherin|   2|       70|\n",
      "|Hufflepuff|   2|       65|\n",
      "| Ravenclaw|   2|       55|\n",
      "| Slytherin|   3|       85|\n",
      "+----------+----+---------+\n",
      "\n"
     ]
    }
   ],
   "source": [
    "result_df = (\n",
    "    df_filter.groupBy(\"house\",\"year\")\n",
    "    .agg(sum(col(\"points\")).alias(\"total_sum\"))\n",
    "    .orderBy(col(\"year\"),col(\"total_sum\").desc()))\n",
    "\n",
    "result_df.show()"
   ]
  },
  {
   "cell_type": "code",
   "execution_count": 28,
   "id": "6f334648",
   "metadata": {},
   "outputs": [
    {
     "name": "stdout",
     "output_type": "stream",
     "text": [
      "+-------+------+----------------+--------+----------+\n",
      "|   name|  race|enemies_defeated|injuries|    battle|\n",
      "+-------+------+----------------+--------+----------+\n",
      "|Aragorn| Human|              10|       2|Helms Deep|\n",
      "|Legolas|   Elf|              15|       0|Helms Deep|\n",
      "|  Gimli| Dwarf|               8|       3|Helms Deep|\n",
      "|  Frodo|Hobbit|               2|       1|     Moria|\n",
      "|    Sam|Hobbit|               4|       2|     Moria|\n",
      "|Gandalf|Wizard|              12|       1|     Moria|\n",
      "|Boromir| Human|               7|       4|  Amon Hen|\n",
      "|Legolas|   Elf|              20|       0|  Amon Hen|\n",
      "|Aragorn| Human|               9|       2|  Amon Hen|\n",
      "+-------+------+----------------+--------+----------+\n",
      "\n"
     ]
    }
   ],
   "source": [
    "data = [\n",
    "    (\"Aragorn\", \"Human\", 10, 2, \"Helms Deep\"),\n",
    "    (\"Legolas\", \"Elf\", 15, 0, \"Helms Deep\"),\n",
    "    (\"Gimli\", \"Dwarf\", 8, 3, \"Helms Deep\"),\n",
    "    (\"Frodo\", \"Hobbit\", 2, 1, \"Moria\"),\n",
    "    (\"Sam\", \"Hobbit\", 4, 2, \"Moria\"),\n",
    "    (\"Gandalf\", \"Wizard\", 12, 1, \"Moria\"),\n",
    "    (\"Boromir\", \"Human\", 7, 4, \"Amon Hen\"),\n",
    "    (\"Legolas\", \"Elf\", 20, 0, \"Amon Hen\"),\n",
    "    (\"Aragorn\", \"Human\", 9, 2, \"Amon Hen\")\n",
    "]\n",
    "\n",
    "columns = [\"name\", \"race\", \"enemies_defeated\", \"injuries\", \"battle\"]\n",
    "df = spark.createDataFrame(data, columns)\n",
    "df.show()"
   ]
  },
  {
   "cell_type": "code",
   "execution_count": 29,
   "id": "591490d2",
   "metadata": {},
   "outputs": [
    {
     "name": "stdout",
     "output_type": "stream",
     "text": [
      "+-------+------+----------------+--------+----------+\n",
      "|   name|  race|enemies_defeated|injuries|    battle|\n",
      "+-------+------+----------------+--------+----------+\n",
      "|Aragorn| Human|              10|       2|Helms Deep|\n",
      "|Legolas|   Elf|              15|       0|Helms Deep|\n",
      "|  Gimli| Dwarf|               8|       3|Helms Deep|\n",
      "|Gandalf|Wizard|              12|       1|     Moria|\n",
      "|Boromir| Human|               7|       4|  Amon Hen|\n",
      "|Legolas|   Elf|              20|       0|  Amon Hen|\n",
      "|Aragorn| Human|               9|       2|  Amon Hen|\n",
      "+-------+------+----------------+--------+----------+\n",
      "\n"
     ]
    }
   ],
   "source": [
    "df_filter_2 = df.filter(col(\"enemies_defeated\") > 5)\n",
    "df_filter_2.show()"
   ]
  },
  {
   "cell_type": "code",
   "execution_count": 30,
   "id": "66317f3c",
   "metadata": {},
   "outputs": [
    {
     "name": "stdout",
     "output_type": "stream",
     "text": [
      "+------+------------------+\n",
      "|  race|avg_enemy_Defeated|\n",
      "+------+------------------+\n",
      "|   Elf|              17.5|\n",
      "|Wizard|              12.0|\n",
      "| Human| 8.666666666666666|\n",
      "| Dwarf|               8.0|\n",
      "+------+------------------+\n",
      "\n"
     ]
    }
   ],
   "source": [
    "# group by race to calculate the average enemies defeated,\n",
    "# and order by the average in descending order. \n",
    "result_df_2 = (\n",
    "    df_filter_2.groupBy(\"race\")\n",
    "    .agg(\n",
    "        avg(\"enemies_defeated\").alias(\"avg_enemy_Defeated\"))\n",
    "    .orderBy(col(\"avg_enemy_Defeated\").desc()))\n",
    "\n",
    "result_df_2.show()"
   ]
  },
  {
   "cell_type": "code",
   "execution_count": 31,
   "id": "9d2e7339",
   "metadata": {},
   "outputs": [
    {
     "name": "stdout",
     "output_type": "stream",
     "text": [
      "+------------+--------------+-----------------+-------+\n",
      "|submarine_id|  mission_name|warheads_launched| status|\n",
      "+------------+--------------+-----------------+-------+\n",
      "|      SUB-01|Pacific Strike|                5|Success|\n",
      "|      SUB-02|Atlantic Surge|                2|Failure|\n",
      "|      SUB-01|  Arctic Blitz|                4|Success|\n",
      "|      SUB-03|  Indian Ocean|                6|Success|\n",
      "|      SUB-02|Pacific Strike|                3|Success|\n",
      "|      SUB-01|     Coral Sea|                7|Success|\n",
      "|      SUB-03|  Arctic Blitz|                1|Failure|\n",
      "|      SUB-02| Bering Strait|                5|Success|\n",
      "+------------+--------------+-----------------+-------+\n",
      "\n"
     ]
    }
   ],
   "source": [
    "data = [\n",
    "    (\"SUB-01\", \"Pacific Strike\", 5, \"Success\"),\n",
    "    (\"SUB-02\", \"Atlantic Surge\", 2, \"Failure\"),\n",
    "    (\"SUB-01\", \"Arctic Blitz\", 4, \"Success\"),\n",
    "    (\"SUB-03\", \"Indian Ocean\", 6, \"Success\"),\n",
    "    (\"SUB-02\", \"Pacific Strike\", 3, \"Success\"),\n",
    "    (\"SUB-01\", \"Coral Sea\", 7, \"Success\"),\n",
    "    (\"SUB-03\", \"Arctic Blitz\", 1, \"Failure\"),\n",
    "    (\"SUB-02\", \"Bering Strait\", 5, \"Success\")\n",
    "]\n",
    "\n",
    "columns = [\"submarine_id\", \"mission_name\", \"warheads_launched\", \"status\"]\n",
    "df = spark.createDataFrame(data, columns)\n",
    "df.show()"
   ]
  },
  {
   "cell_type": "code",
   "execution_count": 34,
   "id": "adb9b185",
   "metadata": {},
   "outputs": [
    {
     "name": "stdout",
     "output_type": "stream",
     "text": [
      "+------------+--------------+-----------------+-------+\n",
      "|submarine_id|  mission_name|warheads_launched| status|\n",
      "+------------+--------------+-----------------+-------+\n",
      "|      SUB-01|Pacific Strike|                5|Success|\n",
      "|      SUB-01|  Arctic Blitz|                4|Success|\n",
      "|      SUB-03|  Indian Ocean|                6|Success|\n",
      "|      SUB-01|     Coral Sea|                7|Success|\n",
      "|      SUB-02| Bering Strait|                5|Success|\n",
      "+------------+--------------+-----------------+-------+\n",
      "\n"
     ]
    }
   ],
   "source": [
    "# Select the submarine ID, mission name, and warheads launched, \n",
    "# filter for missions where more than 3 warheads were launched successfully, \n",
    "# group by submarine ID to count the total missions and sum the warheads launched, \n",
    "# and order by total warheads launched in descending order. \n",
    "\n",
    "df_filter_3 = df.filter((col(\"status\") == \"Success\" ) & (col(\"warheads_launched\") > 3))\n",
    "df_filter_3.show()"
   ]
  },
  {
   "cell_type": "code",
   "execution_count": 35,
   "id": "70e75a03",
   "metadata": {},
   "outputs": [
    {
     "name": "stdout",
     "output_type": "stream",
     "text": [
      "+------------+-------------+\n",
      "|submarine_id|total_mission|\n",
      "+------------+-------------+\n",
      "|      SUB-01|            3|\n",
      "|      SUB-03|            1|\n",
      "|      SUB-02|            1|\n",
      "+------------+-------------+\n",
      "\n"
     ]
    }
   ],
   "source": [
    "from pyspark.sql.functions import count\n",
    "result_df_3 = (\n",
    "    df_filter_3.groupBy(\"submarine_id\")\n",
    "    .agg(count(\"mission_name\").alias(\"total_mission\"))\n",
    "    .orderBy(col(\"total_mission\").desc()))\n",
    "result_df_3.show()"
   ]
  }
 ],
 "metadata": {
  "kernelspec": {
   "display_name": ".venv",
   "language": "python",
   "name": "python3"
  },
  "language_info": {
   "codemirror_mode": {
    "name": "ipython",
    "version": 3
   },
   "file_extension": ".py",
   "mimetype": "text/x-python",
   "name": "python",
   "nbconvert_exporter": "python",
   "pygments_lexer": "ipython3",
   "version": "3.12.3"
  }
 },
 "nbformat": 4,
 "nbformat_minor": 5
}
